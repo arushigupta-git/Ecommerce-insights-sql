{
 "cells": [
  {
   "cell_type": "code",
   "execution_count": 22,
   "id": "1eadc3aa",
   "metadata": {},
   "outputs": [],
   "source": [
    "import pandas as pd\n",
    "import pandasql as ps"
   ]
  },
  {
   "cell_type": "code",
   "execution_count": 2,
   "id": "2da19f61",
   "metadata": {},
   "outputs": [],
   "source": [
    "customers = pd.read_csv(\"customers.csv\")\n",
    "geolocation = pd.read_csv(\"geolocation.csv\")\n",
    "order_items = pd.read_csv(\"order_items.csv\")\n",
    "payments = pd.read_csv(\"payments.csv\")\n",
    "reviews = pd.read_csv(\"order_reviews.csv\", encoding='latin-1')\n",
    "orders = pd.read_csv(\"orders.csv\")\n",
    "products = pd.read_csv(\"products.csv\")\n",
    "sellers = pd.read_csv(\"sellers.csv\")"
   ]
  },
  {
   "cell_type": "code",
   "execution_count": 5,
   "id": "0bb33c6c",
   "metadata": {},
   "outputs": [
    {
     "name": "stdout",
     "output_type": "stream",
     "text": [
      "<class 'pandas.core.frame.DataFrame'>\n",
      "RangeIndex: 99441 entries, 0 to 99440\n",
      "Data columns (total 5 columns):\n",
      " #   Column                    Non-Null Count  Dtype \n",
      "---  ------                    --------------  ----- \n",
      " 0   customer_id               99441 non-null  object\n",
      " 1   customer_unique_id        99441 non-null  object\n",
      " 2   customer_zip_code_prefix  99441 non-null  int64 \n",
      " 3   customer_city             99441 non-null  object\n",
      " 4   customer_state            99441 non-null  object\n",
      "dtypes: int64(1), object(4)\n",
      "memory usage: 3.8+ MB\n",
      "None\n",
      "--------------------------------------------------------------------------------------------------------\n",
      "<class 'pandas.core.frame.DataFrame'>\n",
      "RangeIndex: 1000163 entries, 0 to 1000162\n",
      "Data columns (total 5 columns):\n",
      " #   Column                       Non-Null Count    Dtype  \n",
      "---  ------                       --------------    -----  \n",
      " 0   geolocation_zip_code_prefix  1000163 non-null  int64  \n",
      " 1   geolocation_lat              1000163 non-null  float64\n",
      " 2   geolocation_lng              1000163 non-null  float64\n",
      " 3   geolocation_city             1000163 non-null  object \n",
      " 4   geolocation_state            1000163 non-null  object \n",
      "dtypes: float64(2), int64(1), object(2)\n",
      "memory usage: 38.2+ MB\n",
      "None\n",
      "--------------------------------------------------------------------------------------------------------\n",
      "<class 'pandas.core.frame.DataFrame'>\n",
      "RangeIndex: 112650 entries, 0 to 112649\n",
      "Data columns (total 7 columns):\n",
      " #   Column               Non-Null Count   Dtype  \n",
      "---  ------               --------------   -----  \n",
      " 0   order_id             112650 non-null  object \n",
      " 1   order_item_id        112650 non-null  int64  \n",
      " 2   product_id           112650 non-null  object \n",
      " 3   seller_id            112650 non-null  object \n",
      " 4   shipping_limit_date  112650 non-null  object \n",
      " 5   price                112650 non-null  float64\n",
      " 6   freight_value        112650 non-null  float64\n",
      "dtypes: float64(2), int64(1), object(4)\n",
      "memory usage: 6.0+ MB\n",
      "None\n",
      "--------------------------------------------------------------------------------------------------------\n",
      "<class 'pandas.core.frame.DataFrame'>\n",
      "RangeIndex: 103886 entries, 0 to 103885\n",
      "Data columns (total 5 columns):\n",
      " #   Column                Non-Null Count   Dtype  \n",
      "---  ------                --------------   -----  \n",
      " 0   order_id              103886 non-null  object \n",
      " 1   payment_sequential    103886 non-null  int64  \n",
      " 2   payment_type          103886 non-null  object \n",
      " 3   payment_installments  103886 non-null  int64  \n",
      " 4   payment_value         103886 non-null  float64\n",
      "dtypes: float64(1), int64(2), object(2)\n",
      "memory usage: 4.0+ MB\n",
      "None\n",
      "--------------------------------------------------------------------------------------------------------\n",
      "<class 'pandas.core.frame.DataFrame'>\n",
      "RangeIndex: 99224 entries, 0 to 99223\n",
      "Data columns (total 6 columns):\n",
      " #   Column                   Non-Null Count  Dtype \n",
      "---  ------                   --------------  ----- \n",
      " 0   review_id                99224 non-null  object\n",
      " 1   order_id                 99224 non-null  object\n",
      " 2   review_score             99224 non-null  int64 \n",
      " 3   review_comment_title     11549 non-null  object\n",
      " 4   review_creation_date     99224 non-null  object\n",
      " 5   review_answer_timestamp  99224 non-null  object\n",
      "dtypes: int64(1), object(5)\n",
      "memory usage: 4.5+ MB\n",
      "None\n",
      "--------------------------------------------------------------------------------------------------------\n",
      "<class 'pandas.core.frame.DataFrame'>\n",
      "RangeIndex: 99441 entries, 0 to 99440\n",
      "Data columns (total 8 columns):\n",
      " #   Column                         Non-Null Count  Dtype \n",
      "---  ------                         --------------  ----- \n",
      " 0   order_id                       99441 non-null  object\n",
      " 1   customer_id                    99441 non-null  object\n",
      " 2   order_status                   99441 non-null  object\n",
      " 3   order_purchase_timestamp       99441 non-null  object\n",
      " 4   order_approved_at              99281 non-null  object\n",
      " 5   order_delivered_carrier_date   97658 non-null  object\n",
      " 6   order_delivered_customer_date  96476 non-null  object\n",
      " 7   order_estimated_delivery_date  99441 non-null  object\n",
      "dtypes: object(8)\n",
      "memory usage: 6.1+ MB\n",
      "None\n",
      "--------------------------------------------------------------------------------------------------------\n",
      "<class 'pandas.core.frame.DataFrame'>\n",
      "RangeIndex: 32951 entries, 0 to 32950\n",
      "Data columns (total 9 columns):\n",
      " #   Column                      Non-Null Count  Dtype  \n",
      "---  ------                      --------------  -----  \n",
      " 0   product_id                  32951 non-null  object \n",
      " 1   product category            32341 non-null  object \n",
      " 2   product_name_length         32341 non-null  float64\n",
      " 3   product_description_length  32341 non-null  float64\n",
      " 4   product_photos_qty          32341 non-null  float64\n",
      " 5   product_weight_g            32949 non-null  float64\n",
      " 6   product_length_cm           32949 non-null  float64\n",
      " 7   product_height_cm           32949 non-null  float64\n",
      " 8   product_width_cm            32949 non-null  float64\n",
      "dtypes: float64(7), object(2)\n",
      "memory usage: 2.3+ MB\n",
      "None\n",
      "--------------------------------------------------------------------------------------------------------\n",
      "<class 'pandas.core.frame.DataFrame'>\n",
      "RangeIndex: 3095 entries, 0 to 3094\n",
      "Data columns (total 4 columns):\n",
      " #   Column                  Non-Null Count  Dtype \n",
      "---  ------                  --------------  ----- \n",
      " 0   seller_id               3095 non-null   object\n",
      " 1   seller_zip_code_prefix  3095 non-null   int64 \n",
      " 2   seller_city             3095 non-null   object\n",
      " 3   seller_state            3095 non-null   object\n",
      "dtypes: int64(1), object(3)\n",
      "memory usage: 96.8+ KB\n",
      "None\n"
     ]
    }
   ],
   "source": [
    "#1.1\n",
    "\n",
    "print(customers.info())\n",
    "print(\"--------------------------------------------------------------------------------------------------------\")\n",
    "print(geolocation.info())\n",
    "print(\"--------------------------------------------------------------------------------------------------------\")\n",
    "print(order_items.info())\n",
    "print(\"--------------------------------------------------------------------------------------------------------\")\n",
    "print(payments.info())\n",
    "print(\"--------------------------------------------------------------------------------------------------------\")\n",
    "print(reviews.info())\n",
    "print(\"--------------------------------------------------------------------------------------------------------\")\n",
    "print(orders.info())\n",
    "print(\"--------------------------------------------------------------------------------------------------------\")\n",
    "print(products.info())\n",
    "print(\"--------------------------------------------------------------------------------------------------------\")\n",
    "print(sellers.info())"
   ]
  },
  {
   "cell_type": "code",
   "execution_count": 8,
   "id": "c9195430",
   "metadata": {},
   "outputs": [
    {
     "name": "stdout",
     "output_type": "stream",
     "text": [
      "            start_date            last_date\n",
      "0  2016-09-04 21:15:19  2018-10-17 17:30:18\n"
     ]
    }
   ],
   "source": [
    "#1.2\n",
    "\n",
    "q12= '''select min(order_purchase_timestamp) as start_date, max(order_purchase_timestamp) as last_date from orders'''\n",
    "print(ps.sqldf(q12))"
   ]
  },
  {
   "cell_type": "code",
   "execution_count": 13,
   "id": "de7be16e",
   "metadata": {},
   "outputs": [
    {
     "name": "stdout",
     "output_type": "stream",
     "text": [
      "                customer_city customer_state\n",
      "0                   sao paulo             SP\n",
      "1                   barreiras             BA\n",
      "2                  vianopolis             GO\n",
      "3     sao goncalo do amarante             RN\n",
      "4                 santo andre             SP\n",
      "...                       ...            ...\n",
      "4305                   pacuja             CE\n",
      "4306                umburanas             BA\n",
      "4307          messias targino             RN\n",
      "4308         campo do tenente             PR\n",
      "4309              nova vicosa             BA\n",
      "\n",
      "[4310 rows x 2 columns]\n"
     ]
    }
   ],
   "source": [
    "#1.3\n",
    "\n",
    "q13 = '''select distinct c.customer_city,c.customer_state \n",
    "        from orders as o join customers as c on o.customer_id=c.customer_id '''\n",
    "print(ps.sqldf(q13))\n"
   ]
  },
  {
   "cell_type": "code",
   "execution_count": 24,
   "id": "d0745328",
   "metadata": {},
   "outputs": [
    {
     "name": "stdout",
     "output_type": "stream",
     "text": [
      "    year month  sales_per_month\n",
      "0   2016    09                4\n",
      "1   2016    10              324\n",
      "2   2016    12                1\n",
      "3   2017    01              800\n",
      "4   2017    02             1780\n",
      "5   2017    03             2682\n",
      "6   2017    04             2404\n",
      "7   2017    05             3700\n",
      "8   2017    06             3245\n",
      "9   2017    07             4026\n",
      "10  2017    08             4331\n",
      "11  2017    09             4285\n",
      "12  2017    10             4631\n",
      "13  2017    11             7544\n",
      "14  2017    12             5673\n",
      "15  2018    01             7269\n",
      "16  2018    02             6728\n",
      "17  2018    03             7211\n",
      "18  2018    04             6939\n",
      "19  2018    05             6873\n",
      "20  2018    06             6167\n",
      "21  2018    07             6292\n",
      "22  2018    08             6512\n",
      "23  2018    09               16\n",
      "24  2018    10                4\n"
     ]
    }
   ],
   "source": [
    "#2.1\n",
    "\n",
    "q21 = '''select strftime('%Y',order_purchase_timestamp) as year,\n",
    "        strftime('%m',order_purchase_timestamp) as month,count(order_id) as sales_per_month \n",
    "        from orders group by year,month\n",
    "        order by year,month'''\n",
    "print(ps.sqldf(q21))"
   ]
  },
  {
   "cell_type": "code",
   "execution_count": 34,
   "id": "1766c2a1",
   "metadata": {},
   "outputs": [
    {
     "name": "stdout",
     "output_type": "stream",
     "text": [
      "        Hour  Orders\n",
      "0  AfterNoon   32366\n",
      "1       DAWN    1176\n",
      "2    Evening   24161\n",
      "3    Morning   28235\n",
      "4      Night   13503\n"
     ]
    }
   ],
   "source": [
    "#2.2\n",
    "\n",
    "q22 = '''select CASE \n",
    "            when strftime('%H',order_purchase_timestamp) between \"02\" and \"05\" then \"DAWN\"\n",
    "            when strftime('%H',order_purchase_timestamp) between \"05\" and \"12\" then \"Morning\"\n",
    "            when strftime('%H',order_purchase_timestamp) between \"12\" and \"17\" then \"AfterNoon\"\n",
    "            when strftime('%H',order_purchase_timestamp) between \"17\" and \"21\" then \"Evening\"\n",
    "            else \"Night\" \n",
    "            End as Hour,count(order_id) as Orders from orders group by Hour\n",
    "        \n",
    "        '''\n",
    "\n",
    "print(ps.sqldf(q22))"
   ]
  },
  {
   "cell_type": "code",
   "execution_count": 49,
   "id": "b9bb412f",
   "metadata": {},
   "outputs": [
    {
     "name": "stdout",
     "output_type": "stream",
     "text": [
      "    month State  sales_per_month\n",
      "0      01    AC                8\n",
      "1      01    AL               39\n",
      "2      01    AM               12\n",
      "3      01    AP               11\n",
      "4      01    BA              264\n",
      "..    ...   ...              ...\n",
      "317    12    RS              283\n",
      "318    12    SC              193\n",
      "319    12    SE               20\n",
      "320    12    SP             2357\n",
      "321    12    TO               14\n",
      "\n",
      "[322 rows x 3 columns]\n"
     ]
    }
   ],
   "source": [
    "#3.1\n",
    "\n",
    "q31 = '''select strftime('%m',order_purchase_timestamp) as month,c.customer_state as State,count(order_id) as sales_per_month \n",
    "        from customers as c join orders as o on o.customer_id=c.customer_id \n",
    "        group by month, State order by month'''\n",
    "print(ps.sqldf(q31))"
   ]
  },
  {
   "cell_type": "code",
   "execution_count": 48,
   "id": "e1ccf57d",
   "metadata": {},
   "outputs": [
    {
     "name": "stdout",
     "output_type": "stream",
     "text": [
      "   State  Number_of_Customer\n",
      "0     AC                  81\n",
      "1     AL                 413\n",
      "2     AM                 148\n",
      "3     AP                  68\n",
      "4     BA                3380\n",
      "5     CE                1336\n",
      "6     DF                2140\n",
      "7     ES                2033\n",
      "8     GO                2020\n",
      "9     MA                 747\n",
      "10    MG               11635\n",
      "11    MS                 715\n",
      "12    MT                 907\n",
      "13    PA                 975\n",
      "14    PB                 536\n",
      "15    PE                1652\n",
      "16    PI                 495\n",
      "17    PR                5045\n",
      "18    RJ               12852\n",
      "19    RN                 485\n",
      "20    RO                 253\n",
      "21    RR                  46\n",
      "22    RS                5466\n",
      "23    SC                3637\n",
      "24    SE                 350\n",
      "25    SP               41746\n",
      "26    TO                 280\n"
     ]
    }
   ],
   "source": [
    "#3.2\n",
    "\n",
    "q32 = '''select customer_state as State, count(customer_id) as Number_of_Customer\n",
    "        from customers group by State\n",
    "        '''\n",
    "print(ps.sqldf(q32))"
   ]
  },
  {
   "cell_type": "code",
   "execution_count": 6,
   "id": "37c91b27",
   "metadata": {},
   "outputs": [
    {
     "name": "stdout",
     "output_type": "stream",
     "text": [
      "     Payments  year  Prev_Year_Payments  Percentage_change\n",
      "0  8694733.84  2018          3669022.12             136.98\n"
     ]
    }
   ],
   "source": [
    "#4.1\n",
    "\n",
    "q41 = '''\n",
    "        with base as(\n",
    "        select sum(p.payment_value) as Payments,strftime('%Y',o.order_purchase_timestamp) as year\n",
    "        from orders o join payments p on o.order_id = p.order_id\n",
    "        where strftime('%m',o.order_purchase_timestamp) BETWEEN \"01\" AND \"08\" \n",
    "        group by year),\n",
    "        base_2 as (\n",
    "        select *, lag(payments,1 ) over (order by year asc) as Prev_Year_Payments from base\n",
    "        ),\n",
    "        base_3 as (\n",
    "        select *, round((Payments-Prev_Year_Payments)/ Prev_Year_Payments *100,2) as Percentage_change from base_2\n",
    "        )\n",
    "        select * from base_3 where Prev_Year_Payments is not null\n",
    "        '''\n",
    "print(ps.sqldf(q41))"
   ]
  },
  {
   "cell_type": "code",
   "execution_count": 11,
   "id": "60de111e",
   "metadata": {},
   "outputs": [
    {
     "name": "stdout",
     "output_type": "stream",
     "text": [
      "   State         Price  Freight_Value   Avg_Price  Avg_FreightValue\n",
      "0     AC  1.598295e+04        3686.75  173.727717         40.073370\n",
      "1     AL  8.031481e+04       15914.59  180.889212         35.843671\n",
      "2     AM  2.235684e+04        5478.89  135.496000         33.205394\n",
      "3     AP  1.347430e+04        2788.50  164.320732         34.006098\n",
      "4     BA  5.113500e+05      100156.68  134.601208         26.363959\n",
      "5     CE  2.272547e+05       48351.59  153.758261         32.714202\n",
      "6     DF  3.026039e+05       50625.50  125.770549         21.041355\n",
      "7     ES  2.750373e+05       49764.60  121.913701         22.058777\n",
      "8     GO  2.945919e+05       53114.98  126.271732         22.766815\n",
      "9     MA  1.196482e+05       31523.77  145.204150         38.257002\n",
      "10    MG  1.585308e+06      270853.46  120.748574         20.630167\n",
      "11    MS  1.168126e+05       19144.03  142.628376         23.374884\n",
      "12    MT  1.564535e+05       29715.43  148.297185         28.166284\n",
      "13    PA  1.789478e+05       38699.30  165.692417         35.832685\n",
      "14    PB  1.152681e+05       25719.73  191.475216         42.723804\n",
      "15    PE  2.627880e+05       59449.66  145.508322         32.917863\n",
      "16    PI  8.691408e+04       21218.20  160.358081         39.147970\n",
      "17    PR  6.830838e+05      117851.68  119.004139         20.531652\n",
      "18    RJ  1.824093e+06      305589.31  125.117818         20.960924\n",
      "19    RN  8.303498e+04       18860.10  156.965936         35.652363\n",
      "20    RO  4.614064e+04       11417.38  165.973525         41.069712\n",
      "21    RR  7.829430e+03        2235.19  150.565962         42.984423\n",
      "22    RS  7.503040e+05      135522.74  120.337453         21.735804\n",
      "23    SC  5.205533e+05       89660.26  124.653578         21.470369\n",
      "24    SE  5.892085e+04       14111.47  153.041169         36.653169\n",
      "25    SP  5.202955e+06      718723.07  109.653629         15.147275\n",
      "26    TO  4.962174e+04       11732.68  157.529333         37.246603\n"
     ]
    }
   ],
   "source": [
    "#4.2\n",
    "\n",
    "q42 = '''\n",
    "        select c.customer_state as State, sum(oi.price) as Price, sum(oi.freight_value) as Freight_Value,\n",
    "        avg(oi.price) as Avg_Price, avg(oi.freight_value) as Avg_FreightValue\n",
    "        from order_items as oi\n",
    "        join orders as o on oi.order_id= o.order_id\n",
    "        join customers as c on o.customer_id = c.customer_id\n",
    "        group by State\n",
    "    '''\n",
    "print(ps.sqldf(q42))"
   ]
  },
  {
   "cell_type": "code",
   "execution_count": 28,
   "id": "ebfb48ed",
   "metadata": {},
   "outputs": [
    {
     "name": "stdout",
     "output_type": "stream",
     "text": [
      "       Estimation_Delivery_Time  Delivered_Time\n",
      "0                            16             2.0\n",
      "1                           -11             2.0\n",
      "2                            -4             0.0\n",
      "3                            -3             4.0\n",
      "4                            13             1.0\n",
      "...                         ...             ...\n",
      "99436                        19             1.0\n",
      "99437                        -4             1.0\n",
      "99438                         0             1.0\n",
      "99439                         7             4.0\n",
      "99440                        -5             1.0\n",
      "\n",
      "[99441 rows x 2 columns]\n"
     ]
    }
   ],
   "source": [
    "#5.1\n",
    "\n",
    "q51 = \"\"\"SELECT strftime('%d',order_estimated_delivery_date)-strftime('%d',order_purchase_timestamp) as Estimation_Delivery_Time,\n",
    "        strftime('%d',order_delivered_carrier_date)-strftime('%d',order_purchase_timestamp) as Delivered_Time\n",
    "        FROM orders\"\"\"\n",
    "print(ps.sqldf(q51))"
   ]
  },
  {
   "cell_type": "code",
   "execution_count": 33,
   "id": "9a8a17aa",
   "metadata": {},
   "outputs": [
    {
     "name": "stdout",
     "output_type": "stream",
     "text": [
      "       time_to_delivery  diff_estimated_delivery\n",
      "0                   8.0                      7.0\n",
      "1                  13.0                      5.0\n",
      "2                   9.0                     17.0\n",
      "3                  13.0                     12.0\n",
      "4                   2.0                      9.0\n",
      "...                 ...                      ...\n",
      "99436               8.0                     10.0\n",
      "99437              22.0                      1.0\n",
      "99438              24.0                      5.0\n",
      "99439              17.0                     20.0\n",
      "99440               7.0                     17.0\n",
      "\n",
      "[99441 rows x 2 columns]\n"
     ]
    }
   ],
   "source": [
    "#5.2\n",
    "\n",
    "q52 = '''SELECT Cast ((JulianDay(order_delivered_customer_date) - JulianDay(order_purchase_timestamp)) As Integer) as time_to_delivery,\n",
    "        Cast ((JulianDay(order_estimated_delivery_date) - JulianDay(order_delivered_customer_date)) As Integer) as diff_estimated_delivery\n",
    "        FROM orders'''\n",
    "print(ps.sqldf(q52))"
   ]
  },
  {
   "cell_type": "code",
   "execution_count": 36,
   "id": "97dbe905",
   "metadata": {},
   "outputs": [
    {
     "name": "stdout",
     "output_type": "stream",
     "text": [
      "   State  avg_freight_value  avg_time_to_delivery  avg_diff_estimated_delivery\n",
      "0     AC          40.073370             20.329670                    20.010989\n",
      "1     AL          35.843671             23.992974                     7.976581\n",
      "2     AM          33.205394             25.963190                    18.975460\n",
      "3     AP          34.006098             27.753086                    17.444444\n",
      "4     BA          26.363959             18.774640                    10.119468\n",
      "5     CE          32.714202             20.537167                    10.256662\n",
      "6     DF          21.041355             12.501486                    11.274735\n",
      "7     ES          22.058777             15.192809                     9.768539\n",
      "8     GO          22.766815             14.948177                    11.372859\n",
      "9     MA          38.257002             21.203750                     9.110000\n",
      "10    MG          20.630167             11.515522                    12.397151\n",
      "11    MS          23.374884             15.107275                    10.337855\n",
      "12    MT          28.166284             17.508197                    13.639344\n",
      "13    PA          35.832685             23.301708                    13.374763\n",
      "14    PB          42.723804             20.119454                    12.150171\n",
      "15    PE          32.917863             17.792096                    12.552119\n",
      "16    PI          39.147970             18.931166                    10.682600\n",
      "17    PR          20.531652             11.480793                    12.533900\n",
      "18    RJ          20.960924             14.689382                    11.144493\n",
      "19    RN          35.652363             18.873321                    13.055662\n",
      "20    RO          41.069712             19.282051                    19.080586\n",
      "21    RR          42.984423             27.826087                    17.434783\n",
      "22    RS          21.735804             14.708299                    13.203000\n",
      "23    SC          21.470369             14.520986                    10.668863\n",
      "24    SE          36.653169             20.978667                     9.165333\n",
      "25    SP          15.147275              8.259609                    10.265594\n",
      "26    TO          37.246603             17.003226                    11.461290\n"
     ]
    }
   ],
   "source": [
    "#5.3\n",
    "\n",
    "q53 = '''SELECT customer_state as State,AVG(ot.freight_value) as avg_freight_value,\n",
    "        AVG(Cast ((JulianDay(od.order_delivered_customer_date) - JulianDay(od.order_purchase_timestamp)) As Integer)) as avg_time_to_delivery,\n",
    "        AVG(Cast ((JulianDay(od.order_estimated_delivery_date) - JulianDay(od.order_delivered_customer_date)) As Integer)) as avg_diff_estimated_delivery\n",
    "        FROM order_items  ot\n",
    "        join orders od on od.order_id=ot.order_id\n",
    "        join customers cs on cs.customer_id=od.customer_id\n",
    "        group by State\n",
    "'''\n",
    "print(ps.sqldf(q53))"
   ]
  },
  {
   "cell_type": "code",
   "execution_count": 41,
   "id": "7248d61e",
   "metadata": {},
   "outputs": [
    {
     "name": "stdout",
     "output_type": "stream",
     "text": [
      "Highest\n",
      "  customer_state  avg_diff_estimated_delivery\n",
      "0             AC                    20.010989\n",
      "1             RO                    19.080586\n",
      "2             AM                    18.975460\n",
      "3             AP                    17.444444\n",
      "4             RR                    17.434783\n",
      "Lowest\n",
      "  customer_state  avg_diff_estimated_delivery\n",
      "0             AL                     7.976581\n",
      "1             MA                     9.110000\n",
      "2             SE                     9.165333\n",
      "3             ES                     9.768539\n",
      "4             BA                    10.119468\n"
     ]
    }
   ],
   "source": [
    "#5.5\n",
    "print(\"Highest\")\n",
    "q551 = '''SELECT customer_state,\n",
    "        AVG(Cast ((JulianDay(od.order_estimated_delivery_date) - JulianDay(od.order_delivered_customer_date)) As Integer)) as avg_diff_estimated_delivery\n",
    "        FROM order_items  ot\n",
    "        inner join orders od on od.order_id=ot.order_id\n",
    "        inner join customers cs on cs.customer_id=od.customer_id\n",
    "        group by customer_state\n",
    "        order by avg_diff_estimated_delivery desc\n",
    "        limit 5\n",
    "        '''\n",
    "print(ps.sqldf(q551))\n",
    "\n",
    "print(\"Lowest\")\n",
    "\n",
    "q552 = '''SELECT customer_state,\n",
    "        AVG(Cast ((JulianDay(od.order_estimated_delivery_date) - JulianDay(od.order_delivered_customer_date)) As Integer)) as avg_diff_estimated_delivery\n",
    "        FROM order_items  ot\n",
    "        inner join orders od on od.order_id=ot.order_id\n",
    "        inner join customers cs on cs.customer_id=od.customer_id\n",
    "        group by customer_state\n",
    "        order by avg_diff_estimated_delivery asc\n",
    "        limit 5\n",
    "        '''\n",
    "print(ps.sqldf(q552))\n"
   ]
  },
  {
   "cell_type": "code",
   "execution_count": 44,
   "id": "b77d5dda",
   "metadata": {},
   "outputs": [
    {
     "name": "stdout",
     "output_type": "stream",
     "text": [
      "Highest\n",
      "  customer_state  avg_time_to_delivery\n",
      "0             RR             27.826087\n",
      "1             AP             27.753086\n",
      "2             AM             25.963190\n",
      "3             AL             23.992974\n",
      "4             PA             23.301708\n",
      "Lowest\n",
      "  customer_state  avg_time_to_delivery\n",
      "0             SP              8.259609\n",
      "1             PR             11.480793\n",
      "2             MG             11.515522\n",
      "3             DF             12.501486\n",
      "4             SC             14.520986\n"
     ]
    }
   ],
   "source": [
    "#5.6\n",
    "print(\"Highest\")\n",
    "q561 = \"\"\"SELECT customer_state,\n",
    "        AVG(Cast ((JulianDay(od.order_delivered_customer_date) - JulianDay(od.order_purchase_timestamp)) As Integer)) as avg_time_to_delivery\n",
    "        FROM order_items  ot\n",
    "        inner join orders od on od.order_id=ot.order_id\n",
    "        inner join customers cs on cs.customer_id=od.customer_id\n",
    "        group by customer_state\n",
    "        order by avg_time_to_delivery desc\n",
    "        limit 5\n",
    "\"\"\"\n",
    "print(ps.sqldf(q561))\n",
    "print(\"Lowest\")\n",
    "\n",
    "q562 = \"\"\"SELECT customer_state,\n",
    "        AVG(Cast ((JulianDay(od.order_delivered_customer_date) - JulianDay(od.order_purchase_timestamp)) As Integer)) as avg_time_to_delivery\n",
    "        FROM order_items  ot\n",
    "        inner join orders od on od.order_id=ot.order_id\n",
    "        inner join customers cs on cs.customer_id=od.customer_id\n",
    "        group by customer_state\n",
    "        order by avg_time_to_delivery asc\n",
    "        limit 5\n",
    "\"\"\"\n",
    "print(ps.sqldf(q562))\n",
    "\n"
   ]
  },
  {
   "cell_type": "code",
   "execution_count": 45,
   "id": "3e2981fa",
   "metadata": {},
   "outputs": [
    {
     "name": "stdout",
     "output_type": "stream",
     "text": [
      "Highest\n",
      "  customer_state  freight_value  avg_freight_value\n",
      "0             SP          19.93          15.147275\n",
      "1             PR          15.10          20.531652\n",
      "2             MG          17.87          20.630167\n",
      "3             RJ          13.29          20.960924\n",
      "4             DF          21.75          21.041355\n",
      "Lowest\n",
      "  customer_state  freight_value  avg_freight_value\n",
      "0             SP          19.93          15.147275\n",
      "1             PR          15.10          20.531652\n",
      "2             MG          17.87          20.630167\n",
      "3             RJ          13.29          20.960924\n",
      "4             DF          21.75          21.041355\n"
     ]
    }
   ],
   "source": [
    "#5.7\n",
    "print(\"Highest\")\n",
    "q571 = \"\"\"SELECT customer_state, freight_value, AVG(ot.freight_value) as avg_freight_value\n",
    "        FROM order_items  ot\n",
    "        inner join orders od on od.order_id=ot.order_id\n",
    "        inner join customers cs on cs.customer_id=od.customer_id\n",
    "        group by customer_state\n",
    "        order by avg_freight_value, freight_value desc\n",
    "        limit 5\n",
    "\"\"\"\n",
    "print(ps.sqldf(q571))\n",
    "print('Lowest')\n",
    "q572 = \"\"\"SELECT customer_state, freight_value, AVG(ot.freight_value) as avg_freight_value\n",
    "        FROM order_items  ot\n",
    "        inner join orders od on od.order_id=ot.order_id\n",
    "        inner join customers cs on cs.customer_id=od.customer_id\n",
    "        group by customer_state\n",
    "        order by avg_freight_value, freight_value asc\n",
    "        limit 5\n",
    "\"\"\"\n",
    "print(ps.sqldf(q572))"
   ]
  },
  {
   "cell_type": "code",
   "execution_count": 49,
   "id": "31bd0a72",
   "metadata": {},
   "outputs": [
    {
     "name": "stdout",
     "output_type": "stream",
     "text": [
      "   Month payment_type  Payment_Type\n",
      "0     01          UPI          1715\n",
      "1     01  credit_card          6103\n",
      "2     01   debit_card           118\n",
      "3     01      voucher           477\n",
      "4     02          UPI          1723\n",
      "5     02  credit_card          6609\n",
      "6     02   debit_card            82\n",
      "7     02      voucher           424\n",
      "8     03          UPI          1942\n",
      "9     03  credit_card          7707\n",
      "10    03   debit_card           109\n",
      "11    03      voucher           591\n",
      "12    04          UPI          1783\n",
      "13    04  credit_card          7301\n",
      "14    04   debit_card           124\n",
      "15    04      voucher           572\n",
      "16    05          UPI          2035\n",
      "17    05  credit_card          8350\n",
      "18    05   debit_card            81\n",
      "19    05      voucher           613\n",
      "20    06          UPI          1807\n",
      "21    06  credit_card          7276\n",
      "22    06   debit_card           209\n",
      "23    06      voucher           563\n",
      "24    07          UPI          2074\n",
      "25    07  credit_card          7841\n",
      "26    07   debit_card           264\n",
      "27    07      voucher           645\n",
      "28    08          UPI          2077\n",
      "29    08  credit_card          8269\n",
      "30    08   debit_card           311\n",
      "31    08  not_defined             2\n",
      "32    08      voucher           589\n",
      "33    09          UPI           903\n",
      "34    09  credit_card          3286\n",
      "35    09   debit_card            43\n",
      "36    09  not_defined             1\n",
      "37    09      voucher           302\n",
      "38    10          UPI          1056\n",
      "39    10  credit_card          3778\n",
      "40    10   debit_card            54\n",
      "41    10      voucher           318\n",
      "42    11          UPI          1509\n",
      "43    11  credit_card          5897\n",
      "44    11   debit_card            70\n",
      "45    11      voucher           387\n",
      "46    12          UPI          1160\n",
      "47    12  credit_card          4378\n",
      "48    12   debit_card            64\n",
      "49    12      voucher           294\n"
     ]
    }
   ],
   "source": [
    "#6.1\n",
    "\n",
    "q61 = '''\n",
    "        select strftime('%m',o.order_purchase_timestamp) as Month,p.payment_type, count(p.payment_type) as Payment_Type from\n",
    "        orders as o join payments as p on o.order_id = p.order_id\n",
    "        group by Month,Payment_Type\n",
    "    '''\n",
    "print(ps.sqldf(q61))"
   ]
  },
  {
   "cell_type": "code",
   "execution_count": 51,
   "id": "9f2b562f",
   "metadata": {},
   "outputs": [
    {
     "name": "stdout",
     "output_type": "stream",
     "text": [
      "    payment_installments  count\n",
      "0                      0      2\n",
      "1                      1  52546\n",
      "2                      2  12413\n",
      "3                      3  10461\n",
      "4                      4   7098\n",
      "5                      5   5239\n",
      "6                      6   3920\n",
      "7                      7   1626\n",
      "8                      8   4268\n",
      "9                      9    644\n",
      "10                    10   5328\n",
      "11                    11     23\n",
      "12                    12    133\n",
      "13                    13     16\n",
      "14                    14     15\n",
      "15                    15     74\n",
      "16                    16      5\n",
      "17                    17      8\n",
      "18                    18     27\n",
      "19                    20     17\n",
      "20                    21      3\n",
      "21                    22      1\n",
      "22                    23      1\n",
      "23                    24     18\n"
     ]
    }
   ],
   "source": [
    "#6.2\n",
    "\n",
    "q62 = '''\n",
    "        select payment_installments, count(payment_installments) as count from payments group by payment_installments\n",
    "        '''\n",
    "print(ps.sqldf(q62))"
   ]
  },
  {
   "cell_type": "code",
   "execution_count": 50,
   "id": "8a5b80d8",
   "metadata": {},
   "outputs": [
    {
     "data": {
      "text/html": [
       "<div>\n",
       "<style scoped>\n",
       "    .dataframe tbody tr th:only-of-type {\n",
       "        vertical-align: middle;\n",
       "    }\n",
       "\n",
       "    .dataframe tbody tr th {\n",
       "        vertical-align: top;\n",
       "    }\n",
       "\n",
       "    .dataframe thead th {\n",
       "        text-align: right;\n",
       "    }\n",
       "</style>\n",
       "<table border=\"1\" class=\"dataframe\">\n",
       "  <thead>\n",
       "    <tr style=\"text-align: right;\">\n",
       "      <th></th>\n",
       "      <th>order_id</th>\n",
       "      <th>payment_sequential</th>\n",
       "      <th>payment_type</th>\n",
       "      <th>payment_installments</th>\n",
       "      <th>payment_value</th>\n",
       "    </tr>\n",
       "  </thead>\n",
       "  <tbody>\n",
       "    <tr>\n",
       "      <th>0</th>\n",
       "      <td>b81ef226f3fe1789b1e8b2acac839d17</td>\n",
       "      <td>1</td>\n",
       "      <td>credit_card</td>\n",
       "      <td>8</td>\n",
       "      <td>99.33</td>\n",
       "    </tr>\n",
       "    <tr>\n",
       "      <th>1</th>\n",
       "      <td>a9810da82917af2d9aefd1278f1dcfa0</td>\n",
       "      <td>1</td>\n",
       "      <td>credit_card</td>\n",
       "      <td>1</td>\n",
       "      <td>24.39</td>\n",
       "    </tr>\n",
       "    <tr>\n",
       "      <th>2</th>\n",
       "      <td>25e8ea4e93396b6fa0d3dd708e76c1bd</td>\n",
       "      <td>1</td>\n",
       "      <td>credit_card</td>\n",
       "      <td>1</td>\n",
       "      <td>65.71</td>\n",
       "    </tr>\n",
       "    <tr>\n",
       "      <th>3</th>\n",
       "      <td>ba78997921bbcdc1373bb41e913ab953</td>\n",
       "      <td>1</td>\n",
       "      <td>credit_card</td>\n",
       "      <td>8</td>\n",
       "      <td>107.78</td>\n",
       "    </tr>\n",
       "    <tr>\n",
       "      <th>4</th>\n",
       "      <td>42fdf880ba16b47b59251dd489d4441a</td>\n",
       "      <td>1</td>\n",
       "      <td>credit_card</td>\n",
       "      <td>2</td>\n",
       "      <td>128.45</td>\n",
       "    </tr>\n",
       "  </tbody>\n",
       "</table>\n",
       "</div>"
      ],
      "text/plain": [
       "                           order_id  payment_sequential payment_type  \\\n",
       "0  b81ef226f3fe1789b1e8b2acac839d17                   1  credit_card   \n",
       "1  a9810da82917af2d9aefd1278f1dcfa0                   1  credit_card   \n",
       "2  25e8ea4e93396b6fa0d3dd708e76c1bd                   1  credit_card   \n",
       "3  ba78997921bbcdc1373bb41e913ab953                   1  credit_card   \n",
       "4  42fdf880ba16b47b59251dd489d4441a                   1  credit_card   \n",
       "\n",
       "   payment_installments  payment_value  \n",
       "0                     8          99.33  \n",
       "1                     1          24.39  \n",
       "2                     1          65.71  \n",
       "3                     8         107.78  \n",
       "4                     2         128.45  "
      ]
     },
     "execution_count": 50,
     "metadata": {},
     "output_type": "execute_result"
    }
   ],
   "source": [
    "payments.head()"
   ]
  },
  {
   "cell_type": "markdown",
   "id": "5d07573a",
   "metadata": {},
   "source": [
    "## Actionable Insights :\n",
    "\n",
    "- There is an increase in trend of orders month over month.\n",
    "- Sales reaches peak on November, December, and January during festival seasons.\n",
    "- Most preferred time for customers placing their orders are during afternoon and night.\n",
    "- Around 77% of customers are from five states out of 27 states in Brazil with one state alone contributing 42% of the customer base.\n",
    "- Around an average of 60% jump on cost spent through e-commerce each month from 2017 to 2018 (Jan - Aug).\n",
    "- Freight values are lower in states and time taken for delivery is less where customer distribution is high.\n",
    "- Most preferred modes of payment is through credit cards followed by UPI, Debit cards.\n",
    "- Most customers prefer 1 â€“ 5 installment payments where almost half of the customers prefer single installment.\n"
   ]
  },
  {
   "cell_type": "markdown",
   "id": "5b010fee",
   "metadata": {},
   "source": [
    "## Recommendations:\n",
    "\n",
    "- During peak seasons of November, December and January; advertising and providing discounts.\n",
    "- Based on the purchase and search history of customers sending notifications, mails with various discounts on those products.\n",
    "- From the data that around 2000 vouchers used each during the year 2017 and 2018, clubbing with sports and important events with voucher opportunities to attract customers.\n",
    "- Targeting states with ads in lower customer distribution states.\n",
    "- Pushing notifications in apps, websites and social media during the afternoon and night time where customers tend to place most of their orders.\n",
    "- Clubbing with financial companies especially credit card companies by providing various EMI options, offers.\n",
    "- Adding new sellers in lower customer distribution areas in order to reduce the freight value and time taken for delivery and therefore enhancing the customer experiences."
   ]
  },
  {
   "cell_type": "code",
   "execution_count": null,
   "id": "618d1616",
   "metadata": {},
   "outputs": [],
   "source": []
  }
 ],
 "metadata": {
  "kernelspec": {
   "display_name": "Python 3",
   "language": "python",
   "name": "python3"
  },
  "language_info": {
   "codemirror_mode": {
    "name": "ipython",
    "version": 3
   },
   "file_extension": ".py",
   "mimetype": "text/x-python",
   "name": "python",
   "nbconvert_exporter": "python",
   "pygments_lexer": "ipython3",
   "version": "3.8.8"
  }
 },
 "nbformat": 4,
 "nbformat_minor": 5
}
